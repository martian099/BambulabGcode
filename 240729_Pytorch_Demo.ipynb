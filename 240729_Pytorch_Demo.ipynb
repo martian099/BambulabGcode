{
  "nbformat": 4,
  "nbformat_minor": 0,
  "metadata": {
    "colab": {
      "provenance": [],
      "toc_visible": true,
      "authorship_tag": "ABX9TyOTiwZZ0ZOFi0cs/CGzMiIl",
      "include_colab_link": true
    },
    "kernelspec": {
      "name": "python3",
      "display_name": "Python 3"
    },
    "language_info": {
      "name": "python"
    }
  },
  "cells": [
    {
      "cell_type": "markdown",
      "metadata": {
        "id": "view-in-github",
        "colab_type": "text"
      },
      "source": [
        "<a href=\"https://colab.research.google.com/github/martian099/BambulabGcode/blob/main/240729_Pytorch_Demo.ipynb\" target=\"_parent\"><img src=\"https://colab.research.google.com/assets/colab-badge.svg\" alt=\"Open In Colab\"/></a>"
      ]
    },
    {
      "cell_type": "code",
      "execution_count": 5,
      "metadata": {
        "id": "2cyXyCQPzles",
        "colab": {
          "base_uri": "https://localhost:8080/"
        },
        "outputId": "ed527a7b-f70d-4cfd-f802-ab14794f60bf"
      },
      "outputs": [
        {
          "output_type": "stream",
          "name": "stdout",
          "text": [
            "tensor([[0.0462, 0.2021, 0.3641],\n",
            "        [0.6129, 0.7862, 0.0183]])\n"
          ]
        }
      ],
      "source": [
        "import torch\n",
        "tensor = torch.rand(2, 3)\n",
        "print(tensor)"
      ]
    },
    {
      "cell_type": "code",
      "source": [
        "list_tensor = torch.tensor([[1, 2, 3], [4, 5, 6]])\n",
        "print(list_tensor)"
      ],
      "metadata": {
        "id": "Y5FmRr7-0fCw",
        "colab": {
          "base_uri": "https://localhost:8080/"
        },
        "outputId": "f198b2e7-3ddb-49ec-cc9e-894e0f3a5878"
      },
      "execution_count": 4,
      "outputs": [
        {
          "output_type": "stream",
          "name": "stdout",
          "text": [
            "tensor([[1, 2, 3],\n",
            "        [4, 5, 6]])\n"
          ]
        }
      ]
    },
    {
      "cell_type": "code",
      "source": [
        "result = tensor + list_tensor\n",
        "print(result)"
      ],
      "metadata": {
        "colab": {
          "base_uri": "https://localhost:8080/"
        },
        "id": "1P4NgY-O20GK",
        "outputId": "1d56aac9-8c01-415d-e7e7-c248e3889ea8"
      },
      "execution_count": 6,
      "outputs": [
        {
          "output_type": "stream",
          "name": "stdout",
          "text": [
            "tensor([[1.0462, 2.2021, 3.3641],\n",
            "        [4.6129, 5.7862, 6.0183]])\n"
          ]
        }
      ]
    },
    {
      "cell_type": "code",
      "source": [],
      "metadata": {
        "id": "QtzaVoFA26mt"
      },
      "execution_count": null,
      "outputs": []
    }
  ]
}